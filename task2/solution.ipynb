{
 "cells": [
  {
   "cell_type": "markdown",
   "source": [
    "Task 2: Weather Data Analysis"
   ],
   "metadata": {
    "collapsed": false
   },
   "id": "58b25f370645238d"
  },
  {
   "cell_type": "markdown",
   "source": [
    "The csv file should be in the same directory where the script is run from"
   ],
   "metadata": {
    "collapsed": false
   },
   "id": "3343a705624cbed7"
  },
  {
   "cell_type": "code",
   "execution_count": 20,
   "id": "initial_id",
   "metadata": {
    "collapsed": true,
    "ExecuteTime": {
     "end_time": "2024-02-27T16:53:35.994054600Z",
     "start_time": "2024-02-27T16:53:35.991044900Z"
    }
   },
   "outputs": [],
   "source": [
    "import os\n",
    "import pandas as pd"
   ]
  },
  {
   "cell_type": "code",
   "outputs": [],
   "source": [
    "cwd = os.getcwd()\n",
    "\n",
    "csv_file_path = f'{cwd}{os.sep}weather_data.csv'\n",
    "\n",
    "weather_df = pd.read_csv(csv_file_path, sep=';')"
   ],
   "metadata": {
    "collapsed": false,
    "ExecuteTime": {
     "end_time": "2024-02-27T16:53:37.416983300Z",
     "start_time": "2024-02-27T16:53:37.409493500Z"
    }
   },
   "id": "a260258720b8e524",
   "execution_count": 21
  },
  {
   "cell_type": "markdown",
   "source": [
    "1. Output the contents of the file as a dictionary"
   ],
   "metadata": {
    "collapsed": false
   },
   "id": "8ca9f17ca95d79e7"
  },
  {
   "cell_type": "code",
   "outputs": [
    {
     "name": "stdout",
     "output_type": "stream",
     "text": [
      "{'day': ['Monday', 'Tuesday', 'Wednesday', 'Thursday', 'Friday', 'Saturday', 'Sunday'], 'temp': [12, 14, 15, 14, 21, 22, 24], 'condition': ['sunny', 'rain', 'rain', 'cloudy', 'sunny', 'sunny', 'sunny']}\n"
     ]
    }
   ],
   "source": [
    "dictionary_structured_data = weather_df.to_dict(orient='list')\n",
    "print(dictionary_structured_data)"
   ],
   "metadata": {
    "collapsed": false,
    "ExecuteTime": {
     "end_time": "2024-02-27T17:19:01.464736700Z",
     "start_time": "2024-02-27T17:19:01.453730500Z"
    }
   },
   "id": "6c8aacad7cf834f3",
   "execution_count": 26
  },
  {
   "cell_type": "markdown",
   "source": [
    "2. Extract the temperature column as a list and display the count of elements within it"
   ],
   "metadata": {
    "collapsed": false
   },
   "id": "fbb118835ab8a586"
  },
  {
   "cell_type": "code",
   "outputs": [
    {
     "name": "stdout",
     "output_type": "stream",
     "text": [
      "7\n"
     ]
    }
   ],
   "source": [
    "temperature_data = weather_df['temp'].tolist()\n",
    "print(len(temperature_data))"
   ],
   "metadata": {
    "collapsed": false,
    "ExecuteTime": {
     "end_time": "2024-02-27T16:53:40.633044300Z",
     "start_time": "2024-02-27T16:53:40.624997300Z"
    }
   },
   "id": "d6824aed4374d35e",
   "execution_count": 23
  },
  {
   "cell_type": "markdown",
   "source": [
    "3. Calculate the average, min and max temperature"
   ],
   "metadata": {
    "collapsed": false
   },
   "id": "43f3685343945adc"
  },
  {
   "cell_type": "code",
   "outputs": [
    {
     "name": "stdout",
     "output_type": "stream",
     "text": [
      "Average temperature: 17.43\n",
      "Minimum temperature: 12\n",
      "Maximum temperature: 24\n"
     ]
    }
   ],
   "source": [
    "print(f'Average temperature: {(sum(temperature_data)/len(temperature_data)):.2f}')\n",
    "print(f'Minimum temperature: {min(temperature_data)}')\n",
    "print(f'Maximum temperature: {max(temperature_data)}')"
   ],
   "metadata": {
    "collapsed": false,
    "ExecuteTime": {
     "end_time": "2024-02-27T16:53:44.161798600Z",
     "start_time": "2024-02-27T16:53:44.158494200Z"
    }
   },
   "id": "97e20042d22f29da",
   "execution_count": 24
  },
  {
   "cell_type": "markdown",
   "source": [
    "4. Display information about all atmospheric conditions over the week"
   ],
   "metadata": {
    "collapsed": false
   },
   "id": "a6607963c8978d3"
  },
  {
   "cell_type": "code",
   "outputs": [
    {
     "data": {
      "text/plain": "         day condition\n0     Monday     sunny\n1    Tuesday      rain\n2  Wednesday      rain\n3   Thursday    cloudy\n4     Friday     sunny\n5   Saturday     sunny\n6     Sunday     sunny",
      "text/html": "<div>\n<style scoped>\n    .dataframe tbody tr th:only-of-type {\n        vertical-align: middle;\n    }\n\n    .dataframe tbody tr th {\n        vertical-align: top;\n    }\n\n    .dataframe thead th {\n        text-align: right;\n    }\n</style>\n<table border=\"1\" class=\"dataframe\">\n  <thead>\n    <tr style=\"text-align: right;\">\n      <th></th>\n      <th>day</th>\n      <th>condition</th>\n    </tr>\n  </thead>\n  <tbody>\n    <tr>\n      <th>0</th>\n      <td>Monday</td>\n      <td>sunny</td>\n    </tr>\n    <tr>\n      <th>1</th>\n      <td>Tuesday</td>\n      <td>rain</td>\n    </tr>\n    <tr>\n      <th>2</th>\n      <td>Wednesday</td>\n      <td>rain</td>\n    </tr>\n    <tr>\n      <th>3</th>\n      <td>Thursday</td>\n      <td>cloudy</td>\n    </tr>\n    <tr>\n      <th>4</th>\n      <td>Friday</td>\n      <td>sunny</td>\n    </tr>\n    <tr>\n      <th>5</th>\n      <td>Saturday</td>\n      <td>sunny</td>\n    </tr>\n    <tr>\n      <th>6</th>\n      <td>Sunday</td>\n      <td>sunny</td>\n    </tr>\n  </tbody>\n</table>\n</div>"
     },
     "metadata": {},
     "output_type": "display_data"
    }
   ],
   "source": [
    "atmospheric_data = weather_df[['day', 'condition']]\n",
    "display(atmospheric_data)"
   ],
   "metadata": {
    "collapsed": false,
    "ExecuteTime": {
     "end_time": "2024-02-27T16:53:46.463046600Z",
     "start_time": "2024-02-27T16:53:46.454956300Z"
    }
   },
   "id": "f4096ab0d2b54d6c",
   "execution_count": 25
  }
 ],
 "metadata": {
  "kernelspec": {
   "display_name": "Python 3",
   "language": "python",
   "name": "python3"
  },
  "language_info": {
   "codemirror_mode": {
    "name": "ipython",
    "version": 2
   },
   "file_extension": ".py",
   "mimetype": "text/x-python",
   "name": "python",
   "nbconvert_exporter": "python",
   "pygments_lexer": "ipython2",
   "version": "2.7.6"
  }
 },
 "nbformat": 4,
 "nbformat_minor": 5
}
