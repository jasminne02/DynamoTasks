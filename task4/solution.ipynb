{
 "cells": [
  {
   "cell_type": "markdown",
   "source": [
    "Task 4: Named Entity Recognition with bert-base-NER"
   ],
   "metadata": {
    "collapsed": false
   },
   "id": "cb06d4f5cd192a9b"
  },
  {
   "cell_type": "markdown",
   "source": [
    "The PDF should be in the same directory where the script is run from"
   ],
   "metadata": {
    "collapsed": false
   },
   "id": "4fb07b4ec18a163d"
  },
  {
   "cell_type": "code",
   "outputs": [],
   "source": [
    "import os\n",
    "from PyPDF2 import PdfReader\n",
    "from transformers import pipeline\n",
    "from transformers import AutoTokenizer, AutoModelForTokenClassification"
   ],
   "metadata": {
    "collapsed": false,
    "ExecuteTime": {
     "end_time": "2024-02-28T15:37:42.915696400Z",
     "start_time": "2024-02-28T15:37:42.909804Z"
    }
   },
   "id": "2e29fd3cd5f959ed",
   "execution_count": 45
  },
  {
   "cell_type": "code",
   "outputs": [],
   "source": [
    "cwd = os.getcwd()\n",
    "pdf_path = f'{cwd}{os.sep}Successful Algorithmic Trading.pdf'"
   ],
   "metadata": {
    "collapsed": false,
    "ExecuteTime": {
     "end_time": "2024-02-28T15:37:44.377645400Z",
     "start_time": "2024-02-28T15:37:44.373595300Z"
    }
   },
   "id": "6c2d49fc58fbb7a9",
   "execution_count": 46
  },
  {
   "cell_type": "markdown",
   "source": [
    "Read 100 through 110 pages from the PDF file"
   ],
   "metadata": {
    "collapsed": false
   },
   "id": "aa7b310c1a26228e"
  },
  {
   "cell_type": "code",
   "outputs": [],
   "source": [
    "def get_pdf_pages_data(pdf_file: str, starting_page: int, ending_page: int) -> dict:\n",
    "    \"\"\"\n",
    "    Read the page numbers from a PDF file and store them in a dictionary\n",
    "    :param pdf_file: The PDF file which will be read from\n",
    "    :param starting_page: The page where start reading from\n",
    "    :param ending_page: The page where end reading form\n",
    "    :return: Dictionary with page numbers as keys and read data from the page\n",
    "    \"\"\"\n",
    "    \n",
    "    data = {}\n",
    "    \n",
    "    with open(pdf_file, 'rb') as opened_file:\n",
    "        reader = PdfReader(opened_file)\n",
    "        \n",
    "        for page_num in range(starting_page, ending_page):\n",
    "            page = reader.pages[page_num]\n",
    "            page_data = page.extract_text()\n",
    "            \n",
    "            data[page_num] = page_data\n",
    "        \n",
    "    return data"
   ],
   "metadata": {
    "collapsed": false,
    "ExecuteTime": {
     "end_time": "2024-02-28T15:37:46.131824Z",
     "start_time": "2024-02-28T15:37:46.128630700Z"
    }
   },
   "id": "d11693c5444ad79d",
   "execution_count": 47
  },
  {
   "cell_type": "code",
   "outputs": [],
   "source": [
    "pdf_pages_extracted_data = get_pdf_pages_data(pdf_path, 100, 110)"
   ],
   "metadata": {
    "collapsed": false,
    "ExecuteTime": {
     "end_time": "2024-02-28T15:37:47.995037200Z",
     "start_time": "2024-02-28T15:37:47.816815100Z"
    }
   },
   "id": "3922bc7e01d181bd",
   "execution_count": 48
  },
  {
   "cell_type": "markdown",
   "source": [
    "Apply the bert-base-NER model and process the read pages"
   ],
   "metadata": {
    "collapsed": false
   },
   "id": "85060d6a187ea122"
  },
  {
   "cell_type": "code",
   "outputs": [
    {
     "name": "stderr",
     "output_type": "stream",
     "text": [
      "Some weights of the model checkpoint at dslim/bert-base-NER were not used when initializing BertForTokenClassification: ['bert.pooler.dense.bias', 'bert.pooler.dense.weight']\n",
      "- This IS expected if you are initializing BertForTokenClassification from the checkpoint of a model trained on another task or with another architecture (e.g. initializing a BertForSequenceClassification model from a BertForPreTraining model).\n",
      "- This IS NOT expected if you are initializing BertForTokenClassification from the checkpoint of a model that you expect to be exactly identical (initializing a BertForSequenceClassification model from a BertForSequenceClassification model).\n"
     ]
    }
   ],
   "source": [
    "model_name = 'dslim/bert-base-NER'\n",
    "tokenizer = AutoTokenizer.from_pretrained(model_name)\n",
    "model = AutoModelForTokenClassification.from_pretrained(model_name)\n",
    "nlp = pipeline('ner', model=model, tokenizer=tokenizer)"
   ],
   "metadata": {
    "collapsed": false,
    "ExecuteTime": {
     "end_time": "2024-02-28T15:37:51.198481500Z",
     "start_time": "2024-02-28T15:37:49.818586Z"
    }
   },
   "id": "2e1cefd1d3c53604",
   "execution_count": 49
  },
  {
   "cell_type": "code",
   "outputs": [],
   "source": [
    "def process_page_data(page_data: str) -> list[dict]:\n",
    "    \"\"\"\n",
    "    Processes the data read from the PDF file\n",
    "    :param page_data: data read from PDF page\n",
    "    :return: processed data with bert-base-NER \n",
    "    \"\"\"\n",
    "    \n",
    "    ner_results = nlp(page_data)\n",
    "    return ner_results"
   ],
   "metadata": {
    "collapsed": false,
    "ExecuteTime": {
     "end_time": "2024-02-28T15:37:52.432256300Z",
     "start_time": "2024-02-28T15:37:52.429701800Z"
    }
   },
   "id": "b16597d7d5b095de",
   "execution_count": 50
  },
  {
   "cell_type": "code",
   "outputs": [],
   "source": [
    "pdf_pages_processed_data = {page: process_page_data(page_data) for page, page_data in pdf_pages_extracted_data.items()}"
   ],
   "metadata": {
    "collapsed": false,
    "ExecuteTime": {
     "end_time": "2024-02-28T15:37:59.131379500Z",
     "start_time": "2024-02-28T15:37:55.084486700Z"
    }
   },
   "id": "987792608c017f9d",
   "execution_count": 51
  },
  {
   "cell_type": "markdown",
   "source": [
    "Filter the results to return only matches with confidence score greater than 90%"
   ],
   "metadata": {
    "collapsed": false
   },
   "id": "b015257588a67bee"
  },
  {
   "cell_type": "code",
   "outputs": [],
   "source": [
    "def filter_by_confidence_score(pages_processed_data: list[dict], score_threshold: int) -> list[dict]:\n",
    "    \"\"\"\n",
    "    Filters pages data by confidence score threshold\n",
    "    :param pages_processed_data: processed data with bert-base-NER read from PDF pages\n",
    "    :param score_threshold: the minimum confidence score to filter\n",
    "    :return: filtered data by confidence score\n",
    "    \"\"\"\n",
    "    \n",
    "    score_threshold *= 0.01\n",
    "    filtered_data = list(filter(lambda data: data.get('score') >= score_threshold, pages_processed_data))\n",
    "    return filtered_data"
   ],
   "metadata": {
    "collapsed": false,
    "ExecuteTime": {
     "end_time": "2024-02-28T15:37:59.924232700Z",
     "start_time": "2024-02-28T15:37:59.920168700Z"
    }
   },
   "id": "56aad7e669e64156",
   "execution_count": 52
  },
  {
   "cell_type": "code",
   "outputs": [],
   "source": [
    "filtered_pages_processed_data = {page: filter_by_confidence_score(processed_data, 90) for page, processed_data in pdf_pages_processed_data.items()}"
   ],
   "metadata": {
    "collapsed": false,
    "ExecuteTime": {
     "end_time": "2024-02-28T15:38:02.040266300Z",
     "start_time": "2024-02-28T15:38:02.037190700Z"
    }
   },
   "id": "2e8fa77d0e65b19b",
   "execution_count": 53
  },
  {
   "cell_type": "markdown",
   "source": [
    "Print the entity type, entity text, page number and confidence score"
   ],
   "metadata": {
    "collapsed": false
   },
   "id": "d741b970c803ac4b"
  },
  {
   "cell_type": "code",
   "outputs": [],
   "source": [
    "def print_data(processed_data: dict[int: list]) -> None:\n",
    "    \"\"\"\n",
    "    Prints out the filtered data\n",
    "    :return: None \n",
    "    \"\"\"\n",
    "    \n",
    "    for page_num, processed_data in processed_data.items():\n",
    "        for data_entity in processed_data:\n",
    "            entity_type = data_entity[\"entity\"]\n",
    "            entity_text = data_entity[\"word\"]\n",
    "            confidence_score = data_entity[\"score\"]\n",
    "            print(f'Entity type: {entity_type}, Entity text: {entity_text}, Page number: {page_num}, Confidence score: {confidence_score}')\n",
    "   "
   ],
   "metadata": {
    "collapsed": false,
    "ExecuteTime": {
     "end_time": "2024-02-28T15:38:03.979785300Z",
     "start_time": "2024-02-28T15:38:03.972442400Z"
    }
   },
   "id": "8c4e3963724b10ff",
   "execution_count": 54
  },
  {
   "cell_type": "code",
   "outputs": [
    {
     "name": "stdout",
     "output_type": "stream",
     "text": [
      "Entity type: B-MISC, Entity text: Python, Page number: 100, Confidence score: 0.9742887020111084\n",
      "Entity type: B-ORG, Entity text: Yahoo, Page number: 100, Confidence score: 0.9954401254653931\n",
      "Entity type: I-ORG, Entity text: Finance, Page number: 100, Confidence score: 0.9972894191741943\n",
      "Entity type: B-MISC, Entity text: AD, Page number: 100, Confidence score: 0.9362190365791321\n",
      "Entity type: I-MISC, Entity text: ##das, Page number: 100, Confidence score: 0.9351540803909302\n",
      "Entity type: B-ORG, Entity text: Yahoo, Page number: 101, Confidence score: 0.997416615486145\n",
      "Entity type: I-ORG, Entity text: Finance, Page number: 101, Confidence score: 0.9985200762748718\n",
      "Entity type: I-MISC, Entity text: Square, Page number: 101, Confidence score: 0.9349412322044373\n",
      "Entity type: I-MISC, Entity text: ##s, Page number: 101, Confidence score: 0.9037943482398987\n",
      "Entity type: B-MISC, Entity text: AD, Page number: 103, Confidence score: 0.949324369430542\n",
      "Entity type: B-MISC, Entity text: AD, Page number: 103, Confidence score: 0.9602623581886292\n",
      "Entity type: B-MISC, Entity text: CA, Page number: 103, Confidence score: 0.9494219422340393\n",
      "Entity type: B-MISC, Entity text: Python, Page number: 105, Confidence score: 0.9590414762496948\n",
      "Entity type: B-MISC, Entity text: C, Page number: 105, Confidence score: 0.9788950681686401\n",
      "Entity type: B-MISC, Entity text: S, Page number: 105, Confidence score: 0.9229715466499329\n",
      "Entity type: I-ORG, Entity text: Lea, Page number: 106, Confidence score: 0.9316565990447998\n",
      "Entity type: B-MISC, Entity text: S, Page number: 107, Confidence score: 0.9918585419654846\n",
      "Entity type: I-MISC, Entity text: &, Page number: 107, Confidence score: 0.9424390196800232\n",
      "Entity type: I-MISC, Entity text: P, Page number: 107, Confidence score: 0.9910688400268555\n",
      "Entity type: I-MISC, Entity text: ##500, Page number: 107, Confidence score: 0.9575991630554199\n",
      "Entity type: I-MISC, Entity text: ##t, Page number: 108, Confidence score: 0.91636061668396\n",
      "Entity type: I-MISC, Entity text: Disc, Page number: 108, Confidence score: 0.9163808226585388\n",
      "Entity type: I-MISC, Entity text: ##rim, Page number: 108, Confidence score: 0.9200221300125122\n",
      "Entity type: B-ORG, Entity text: L, Page number: 108, Confidence score: 0.9342473745346069\n",
      "Entity type: B-ORG, Entity text: L, Page number: 108, Confidence score: 0.989011287689209\n",
      "Entity type: B-MISC, Entity text: G, Page number: 108, Confidence score: 0.9752388596534729\n",
      "Entity type: B-ORG, Entity text: L, Page number: 108, Confidence score: 0.9856637716293335\n"
     ]
    }
   ],
   "source": [
    "print_data(filtered_pages_processed_data)"
   ],
   "metadata": {
    "collapsed": false,
    "ExecuteTime": {
     "end_time": "2024-02-28T15:38:05.618393100Z",
     "start_time": "2024-02-28T15:38:05.614505Z"
    }
   },
   "id": "460175c2ed4b1b08",
   "execution_count": 55
  }
 ],
 "metadata": {
  "kernelspec": {
   "display_name": "Python 3",
   "language": "python",
   "name": "python3"
  },
  "language_info": {
   "codemirror_mode": {
    "name": "ipython",
    "version": 2
   },
   "file_extension": ".py",
   "mimetype": "text/x-python",
   "name": "python",
   "nbconvert_exporter": "python",
   "pygments_lexer": "ipython2",
   "version": "2.7.6"
  }
 },
 "nbformat": 4,
 "nbformat_minor": 5
}
