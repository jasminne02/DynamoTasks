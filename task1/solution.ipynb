{
 "cells": [
  {
   "cell_type": "markdown",
   "source": [
    "Task 1: Processing Text File Data into Excel"
   ],
   "metadata": {
    "collapsed": false
   },
   "id": "eefe309510acd531"
  },
  {
   "cell_type": "markdown",
   "source": [
    "The text file should be in the same directory where the script is run from"
   ],
   "metadata": {
    "collapsed": false
   },
   "id": "c216208ddab3b613"
  },
  {
   "cell_type": "code",
   "outputs": [],
   "source": [
    "import os\n",
    "import pandas as pd"
   ],
   "metadata": {
    "collapsed": false,
    "ExecuteTime": {
     "end_time": "2024-02-28T15:36:22.340814800Z",
     "start_time": "2024-02-28T15:36:22.335878600Z"
    }
   },
   "id": "dea8df0e31a56a7e",
   "execution_count": 13
  },
  {
   "cell_type": "code",
   "outputs": [],
   "source": [
    "cwd = os.getcwd()\n",
    "text_file_path = f'{cwd}{os.sep}txt_file.txt'\n",
    "excel_file_path = f'{cwd}{os.sep}task1_excel.xlsx'"
   ],
   "metadata": {
    "collapsed": false,
    "ExecuteTime": {
     "end_time": "2024-02-28T15:36:24.747760200Z",
     "start_time": "2024-02-28T15:36:24.743398800Z"
    }
   },
   "id": "54a6fa39fbd4d3c6",
   "execution_count": 14
  },
  {
   "cell_type": "code",
   "outputs": [],
   "source": [
    "def text_file_to_excel() -> None:\n",
    "    \"\"\"\n",
    "    Read text file, process its data and saves it to excel file\n",
    "    :return None: \n",
    "    \"\"\"\n",
    "    \n",
    "    df = pd.read_csv(text_file_path, sep='\\t')\n",
    "    final_df = df[['Fund Name', 'Statement Date', 'Statement Date', 'INV_Profit-Loss_MTD', 'Currency']]\n",
    "    final_df.to_excel(excel_file_path, sheet_name=\"Sheet1\", index=False)"
   ],
   "metadata": {
    "collapsed": false,
    "ExecuteTime": {
     "end_time": "2024-02-28T15:36:25.962070500Z",
     "start_time": "2024-02-28T15:36:25.957682600Z"
    }
   },
   "id": "8423d78863da1bc2",
   "execution_count": 15
  },
  {
   "cell_type": "code",
   "outputs": [],
   "source": [
    "text_file_to_excel()"
   ],
   "metadata": {
    "collapsed": false,
    "ExecuteTime": {
     "end_time": "2024-02-28T15:36:27.579290200Z",
     "start_time": "2024-02-28T15:36:27.555493300Z"
    }
   },
   "id": "a7300cd840bff9eb",
   "execution_count": 16
  }
 ],
 "metadata": {
  "kernelspec": {
   "display_name": "Python 3",
   "language": "python",
   "name": "python3"
  },
  "language_info": {
   "codemirror_mode": {
    "name": "ipython",
    "version": 2
   },
   "file_extension": ".py",
   "mimetype": "text/x-python",
   "name": "python",
   "nbconvert_exporter": "python",
   "pygments_lexer": "ipython2",
   "version": "2.7.6"
  }
 },
 "nbformat": 4,
 "nbformat_minor": 5
}
