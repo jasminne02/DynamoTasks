{
 "cells": [
  {
   "cell_type": "markdown",
   "source": [
    "Task 1: Processing Text File Data into Excel"
   ],
   "metadata": {
    "collapsed": false
   },
   "id": "eefe309510acd531"
  },
  {
   "cell_type": "markdown",
   "source": [
    "The text file should be in the same directory where the script is run from"
   ],
   "metadata": {
    "collapsed": false
   },
   "id": "c216208ddab3b613"
  },
  {
   "cell_type": "code",
   "outputs": [],
   "source": [
    "import os\n",
    "import pandas as pd"
   ],
   "metadata": {
    "collapsed": false,
    "ExecuteTime": {
     "end_time": "2024-02-27T15:35:14.290286700Z",
     "start_time": "2024-02-27T15:35:13.873044600Z"
    }
   },
   "id": "dea8df0e31a56a7e",
   "execution_count": 1
  },
  {
   "cell_type": "code",
   "outputs": [],
   "source": [
    "cwd = os.getcwd()\n",
    "\n",
    "text_file_path = f'{cwd}{os.sep}txt_file.txt'\n",
    "\n",
    "df = pd.read_csv(text_file_path, sep='\\t')\n",
    "\n",
    "final_df = df[['Fund Name', 'Statement Date', 'Statement Date', 'INV_Profit-Loss_MTD', 'Currency']]\n",
    "\n",
    "final_df.to_excel(f'{cwd}{os.sep}task1_excel.xlsx', sheet_name=\"Sheet1\", index=False)\n"
   ],
   "metadata": {
    "collapsed": false,
    "ExecuteTime": {
     "end_time": "2024-02-27T16:18:13.851701100Z",
     "start_time": "2024-02-27T16:18:13.652980100Z"
    }
   },
   "id": "54a6fa39fbd4d3c6",
   "execution_count": 16
  }
 ],
 "metadata": {
  "kernelspec": {
   "display_name": "Python 3",
   "language": "python",
   "name": "python3"
  },
  "language_info": {
   "codemirror_mode": {
    "name": "ipython",
    "version": 2
   },
   "file_extension": ".py",
   "mimetype": "text/x-python",
   "name": "python",
   "nbconvert_exporter": "python",
   "pygments_lexer": "ipython2",
   "version": "2.7.6"
  }
 },
 "nbformat": 4,
 "nbformat_minor": 5
}
