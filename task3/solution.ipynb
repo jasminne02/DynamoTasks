{
 "cells": [
  {
   "cell_type": "markdown",
   "source": [
    "Task 3: Organizing PDF Files for Companies"
   ],
   "metadata": {
    "collapsed": false
   },
   "id": "74b0ffb6e7a4eb0c"
  },
  {
   "cell_type": "markdown",
   "source": [
    "The company folders should be in the same directory where the script is run from"
   ],
   "metadata": {
    "collapsed": false
   },
   "id": "2559b25c7712ec88"
  },
  {
   "cell_type": "code",
   "outputs": [],
   "source": [
    "import os\n",
    "import re\n",
    "import shutil\n",
    "from PyPDF2 import PdfReader\n",
    "from datetime import datetime"
   ],
   "metadata": {
    "collapsed": false,
    "ExecuteTime": {
     "end_time": "2024-02-28T10:12:15.668066600Z",
     "start_time": "2024-02-28T10:12:15.655982900Z"
    }
   },
   "id": "4043660c72924b8b",
   "execution_count": 266
  },
  {
   "cell_type": "code",
   "outputs": [],
   "source": [
    "pdf_pattern = r'[\\w\\d\\s]+\\.pdf'\n",
    "\n",
    "cwd = os.getcwd()\n",
    "\n",
    "apple_docs_folder = f'{cwd}{os.sep}Apple docs'\n",
    "tesla_docs_folder = f'{cwd}{os.sep}Tesla docs'\n",
    "\n",
    "apple_listed_dir = ','.join(os.listdir(apple_docs_folder))\n",
    "tesla_listed_dir = ','.join(os.listdir(tesla_docs_folder))\n",
    "\n",
    "apple_new_pdfs = re.findall(pdf_pattern, apple_listed_dir)\n",
    "tesla_new_pdfs = re.findall(pdf_pattern, tesla_listed_dir)"
   ],
   "metadata": {
    "collapsed": false,
    "ExecuteTime": {
     "end_time": "2024-02-28T10:12:17.563985900Z",
     "start_time": "2024-02-28T10:12:17.558463400Z"
    }
   },
   "id": "80d229a0f0829c7f",
   "execution_count": 267
  },
  {
   "cell_type": "markdown",
   "source": [
    "Extract the date from each of the new document’s titles"
   ],
   "metadata": {
    "collapsed": false
   },
   "id": "e456257bd5d75643"
  },
  {
   "cell_type": "code",
   "outputs": [],
   "source": [
    "def read_pdf_first_page(pdf_file_name):\n",
    "    with open(pdf_file_name, 'rb') as opened_file:\n",
    "        reader = PdfReader(opened_file)\n",
    "        \n",
    "        first_page = reader.pages[0]\n",
    "        first_page_data = first_page.extract_text()\n",
    "        \n",
    "    return first_page_data\n",
    "\n",
    "\n",
    "def get_pdf_file_dates(pdf_file, company_folder):\n",
    "    date_pattern = r'[A-Z][a-z]+[ ]+\\d+,[ ]+\\d{4}'\n",
    "    file_path = f'{company_folder}{os.sep}{pdf_file}'\n",
    "    \n",
    "    first_page_data = read_pdf_first_page(file_path)    \n",
    "    dates = re.findall(date_pattern, first_page_data)\n",
    "    date = dates.pop(0) if dates else None\n",
    "\n",
    "    return date"
   ],
   "metadata": {
    "collapsed": false,
    "ExecuteTime": {
     "end_time": "2024-02-28T10:12:26.946872900Z",
     "start_time": "2024-02-28T10:12:26.940902900Z"
    }
   },
   "id": "57b3cb4c85f6597a",
   "execution_count": 268
  },
  {
   "cell_type": "code",
   "outputs": [],
   "source": [
    "pdf_extracted_dates = {\n",
    "    'apple docs': {pdf: get_pdf_file_dates(pdf, apple_docs_folder) for pdf in apple_new_pdfs}, \n",
    "    'tesla docs': {pdf: get_pdf_file_dates(pdf, tesla_docs_folder) for pdf in tesla_new_pdfs}\n",
    "}"
   ],
   "metadata": {
    "collapsed": false,
    "ExecuteTime": {
     "end_time": "2024-02-28T10:12:30.372008500Z",
     "start_time": "2024-02-28T10:12:30.068127700Z"
    }
   },
   "id": "8b15b74b7914fa7c",
   "execution_count": 269
  },
  {
   "cell_type": "markdown",
   "source": [
    "Move the PDFs to the appropriate folders corresponding to the correct quarters\n",
    "Bonus: Categorize the new documents"
   ],
   "metadata": {
    "collapsed": false
   },
   "id": "6688e90ef26e8fc8"
  },
  {
   "cell_type": "code",
   "outputs": [],
   "source": [
    "quarter_dates_ranges = {\n",
    "    'Q1': [(1, 1), (3, 31)],\n",
    "    'Q2': [(4, 1), (6, 30)],\n",
    "    'Q3': [(7, 1), (9, 30)],\n",
    "    'Q4': [(10, 1), (12, 31)],\n",
    "}"
   ],
   "metadata": {
    "collapsed": false,
    "ExecuteTime": {
     "end_time": "2024-02-28T10:12:51.168597200Z",
     "start_time": "2024-02-28T10:12:51.163002700Z"
    }
   },
   "id": "1dc1b5d4b1fc8c77",
   "execution_count": 271
  },
  {
   "cell_type": "code",
   "outputs": [],
   "source": [
    "def categorize_pdf_files(date):\n",
    "    for dates in quarter_dates_ranges.values():\n",
    "        starting_date = dates[0]\n",
    "        ending_date = dates[1]\n",
    "        mid_of_quarter = tuple(map(sum, zip(starting_date, (1, 14))))\n",
    "        \n",
    "        if starting_date <= date <= mid_of_quarter:\n",
    "            return 'Cat1'\n",
    "        elif mid_of_quarter < date <= ending_date:\n",
    "            return 'Cat2'"
   ],
   "metadata": {
    "collapsed": false,
    "ExecuteTime": {
     "end_time": "2024-02-28T10:12:53.336118200Z",
     "start_time": "2024-02-28T10:12:53.334105200Z"
    }
   },
   "id": "fbc224a62a2f3b79",
   "execution_count": 272
  },
  {
   "cell_type": "code",
   "outputs": [],
   "source": [
    "def format_extracted_date(date):\n",
    "    day = int(date.replace(',', '').split()[1])\n",
    "    month = datetime.strptime(date.split()[0], \"%B\").month\n",
    "    return month, day\n",
    "    \n",
    "\n",
    "def get_quarter(date):    \n",
    "    for quarter, dates_list in quarter_dates_ranges.items():\n",
    "        starting_date = dates_list[0]\n",
    "        ending_date = dates_list[1]\n",
    "        \n",
    "        if starting_date <= date <= ending_date:\n",
    "            return quarter\n",
    "        \n",
    "\n",
    "def check_quarter_directory_exists(quarter, company_folder):\n",
    "    quarter_path = os.path.join(company_folder, quarter)\n",
    "    if not os.path.exists(quarter_path):\n",
    "        os.makedirs(quarter_path)    \n",
    "    \n",
    "\n",
    "def move_pdf_to_quarter_folder(pdf_file, date_extracted, company_folder):\n",
    "    date = format_extracted_date(date_extracted)\n",
    "    quarter = get_quarter(date)\n",
    "    category = categorize_pdf_files(date)\n",
    "    \n",
    "    destination_path = f'{company_folder}{os.sep}{quarter}{os.sep}{category}.pdf'\n",
    "    pdf_abs_path = f'{company_folder}{os.sep}{pdf_file}'\n",
    "    \n",
    "    check_quarter_directory_exists(quarter, company_folder)\n",
    "\n",
    "    shutil.move(pdf_abs_path, destination_path)\n",
    "\n",
    "\n",
    "def organize_new_company_pdfs(company_name):\n",
    "    company_folder = apple_docs_folder if company_name in apple_docs_folder else tesla_docs_folder\n",
    "    company_docs = f'{company_name.lower()} docs'\n",
    "    pdfs = pdf_extracted_dates.get(company_docs)\n",
    "\n",
    "    for pdf_file, extracted_date in pdfs.items():\n",
    "        if extracted_date:\n",
    "            move_pdf_to_quarter_folder(pdf_file, extracted_date, company_folder)\n",
    "                  "
   ],
   "metadata": {
    "collapsed": false,
    "ExecuteTime": {
     "end_time": "2024-02-28T10:15:48.192974200Z",
     "start_time": "2024-02-28T10:15:48.189837700Z"
    }
   },
   "id": "46d57b06f4be71b",
   "execution_count": 278
  },
  {
   "cell_type": "code",
   "outputs": [],
   "source": [
    "organize_new_company_pdfs('Apple')\n",
    "organize_new_company_pdfs('Tesla')"
   ],
   "metadata": {
    "collapsed": false,
    "ExecuteTime": {
     "end_time": "2024-02-28T10:16:53.474916200Z",
     "start_time": "2024-02-28T10:16:53.460586100Z"
    }
   },
   "id": "9d34547bed2b4ac5",
   "execution_count": 280
  }
 ],
 "metadata": {
  "kernelspec": {
   "display_name": "Python 3",
   "language": "python",
   "name": "python3"
  },
  "language_info": {
   "codemirror_mode": {
    "name": "ipython",
    "version": 2
   },
   "file_extension": ".py",
   "mimetype": "text/x-python",
   "name": "python",
   "nbconvert_exporter": "python",
   "pygments_lexer": "ipython2",
   "version": "2.7.6"
  }
 },
 "nbformat": 4,
 "nbformat_minor": 5
}
